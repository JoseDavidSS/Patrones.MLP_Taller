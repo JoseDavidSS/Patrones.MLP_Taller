{
 "cells": [
  {
   "attachments": {},
   "cell_type": "markdown",
   "metadata": {},
   "source": [
    "# MLP"
   ]
  },
  {
   "cell_type": "code",
   "execution_count": 1,
   "metadata": {},
   "outputs": [],
   "source": [
    "import numpy as np\n",
    "import time\n",
    "from sklearn.metrics import recall_score, precision_score, accuracy_score, f1_score\n"
   ]
  },
  {
   "cell_type": "code",
   "execution_count": 2,
   "metadata": {},
   "outputs": [],
   "source": [
    "class PerceptronMulticapa:\n",
    "    def __init__(self, capas, alpha=0.1, f_activacion = \"s\"):\n",
    "        self.f_activacion = f_activacion\n",
    "        self.tiempo_entrenamiento = 0.0\n",
    "        self.capas = capas\n",
    "        self.alpha = alpha\n",
    "        self.bias = []\n",
    "        self.pesos = []\n",
    "        for i in range(0, len(capas) - 1):\n",
    "            # Inicializar los pesos y bias de cada capa\n",
    "            peso = np.random.randn(capas[i], capas[i+1])\n",
    "            self.pesos.append(peso)\n",
    "            bias = np.random.randn(capas[i+1])\n",
    "            self.bias.append(bias)\n",
    "\n",
    "    def activacion(self, x):\n",
    "        # Función de activación sigmoide\n",
    "        return 1.0 / (1 + np.exp(-x))\n",
    "\n",
    "    def activacion_derivada(self, x):\n",
    "        # Derivada de la función de activación sigmoide\n",
    "        return x * (1 - x)\n",
    "    \n",
    "    def activacion_tanh(self, x):\n",
    "        # Función de activación tanh (tangente hiperbólica)\n",
    "        return np.tanh(x)\n",
    "\n",
    "    def activacion_derivada_tanh(self, x):\n",
    "        # Derivada de la función de activación tanh (tangente hiperbólica)\n",
    "        return 1 - np.tanh(x)**2\n",
    "    \n",
    "    def activacion_relu(self, x):\n",
    "        # Función de activación ReLU (Rectified Linear Unit)\n",
    "        return np.maximum(0, x)\n",
    "\n",
    "    def activacion_derivada_relu(self, x):\n",
    "        # Derivada de la función de activación ReLU (Rectified Linear Unit)\n",
    "        return np.where(x <= 0, 0, 1)\n",
    "    \n",
    "    def feedforward(self, X):\n",
    "        # Calcular la salida de cada capa\n",
    "        capa_activacion = [X]\n",
    "        for i in range(0, len(self.capas) - 1):\n",
    "            x = np.dot(capa_activacion[i], self.pesos[i]) + self.bias[i]\n",
    "\n",
    "            if self.f_activacion == \"r\":\n",
    "                y = self.activacion_relu(x)\n",
    "            elif self.f_activacion == \"t\":\n",
    "                y = self.activacion_tanh(x)\n",
    "            else:\n",
    "                y = self.activacion(x)\n",
    "\n",
    "            capa_activacion.append(y)\n",
    "        return capa_activacion\n",
    "\n",
    "    def backpropagation(self, X, y, capa_activacion):\n",
    "        # Calcular el error de la capa de salida\n",
    "        error = capa_activacion[-1] - y\n",
    "\n",
    "        if self.f_activacion == \"r\":\n",
    "            delta = error * self.activacion_derivada_relu(capa_activacion[-1])\n",
    "        elif self.f_activacion == \"t\":\n",
    "            delta = error * self.activacion_derivada_tanh(capa_activacion[-1])\n",
    "        else:\n",
    "            delta = error * self.activacion_derivada(capa_activacion[-1])\n",
    "\n",
    "        \n",
    "        \n",
    "        # Propagar el error hacia atrás a través de la red neuronal\n",
    "        for i in reversed(range(0, len(self.capas) - 1)):\n",
    "            activacion_actual = capa_activacion[i]\n",
    "            activacion_anterior = capa_activacion[i-1] if i > 0 else X\n",
    "            d_peso = np.outer(activacion_anterior, delta)\n",
    "            d_bias = delta\n",
    "            self.pesos[i] -= self.alpha * d_peso\n",
    "            self.bias[i] -= self.alpha * d_bias\n",
    "\n",
    "            if self.f_activacion == \"r\":\n",
    "                delta = np.dot(delta, self.pesos[i].T) * self.activacion_derivada_relu(activacion_actual)\n",
    "            elif self.f_activacion == \"t\":\n",
    "                delta = np.dot(delta, self.pesos[i].T) * self.activacion_derivada_tanh(activacion_actual)\n",
    "            else:\n",
    "                delta = np.dot(delta, self.pesos[i].T) * self.activacion_derivada(activacion_actual)\n",
    "\n",
    "    def entrenar(self, X, y, epochs):\n",
    "        tiempo_inicio = time.time()\n",
    "        for epoch in range(0, epochs):\n",
    "            for i in range(0, len(X)):\n",
    "                # Feedforward\n",
    "                capa_activacion = self.feedforward(X[i])\n",
    "\n",
    "                # Backpropagation\n",
    "                self.backpropagation(X[i], y[i], capa_activacion)\n",
    "        self.tiempo_entrenamiento = time.time() - tiempo_inicio\n",
    "\n",
    "    def predecir(self, X):\n",
    "        # Obtener la salida de la última capa\n",
    "        capa_activacion = self.feedforward(X)\n",
    "        return capa_activacion[-1]\n",
    "    \n",
    "    def metricas(self, y_prueba, y_pred):\n",
    "        recall = recall_score(y_prueba, y_pred, average='macro')\n",
    "        precision = precision_score(y_prueba, y_pred, zero_division=1, average='macro')\n",
    "        accuracy = accuracy_score(y_prueba, y_pred)\n",
    "        f1 = f1_score(y_prueba, y_pred, average='macro')\n",
    "        return recall, precision, accuracy, f1, self.tiempo_entrenamiento\n",
    "    \n",
    "    def imprimir_metricas(self, y_prueba, y_pred):\n",
    "        recall, precision, accuracy, f1, tiempo_entrenamiento = self.metricas(y_prueba, y_pred)\n",
    "        print (\"Recall: \", recall)\n",
    "        print (\"Precision: \", precision)\n",
    "        print (\"Accuracy: \", accuracy)\n",
    "        print (\"F1: \", f1)\n",
    "        print (\"Tiempo de entrenamiento: \", tiempo_entrenamiento)\n",
    "\n",
    "\n",
    "\n",
    "    "
   ]
  },
  {
   "cell_type": "code",
   "execution_count": 3,
   "metadata": {},
   "outputs": [],
   "source": [
    "import numpy as np\n",
    "from sklearn.datasets import load_iris\n",
    "from sklearn.model_selection import train_test_split\n",
    "from matplotlib import pyplot as plt\n",
    "import pandas as pd\n",
    "# Cargar el conjunto de datos Iris\n",
    "\n",
    "iris = load_iris()\n",
    "X = iris.data\n",
    "y = iris.target\n",
    "\n",
    "# Dividir el conjunto de datos en entrenamiento y prueba\n",
    "X_entrenamiento, X_prueba, y_entrenamiento, y_prueba = train_test_split(X, y, test_size=0.2, random_state=42, stratify=y)\n",
    "\n"
   ]
  },
  {
   "cell_type": "code",
   "execution_count": 4,
   "metadata": {},
   "outputs": [],
   "source": [
    "mu = np.mean(X, 0)\n",
    "sigma = np.std(X, 0)\n",
    "X = (X - mu ) / sigma"
   ]
  },
  {
   "cell_type": "code",
   "execution_count": 5,
   "metadata": {},
   "outputs": [
    {
     "name": "stdout",
     "output_type": "stream",
     "text": [
      "Predicciones___:  [0 1 1 1 0 1 0 0 1 1 2 1 2 1 0 0 0 1 1 1 0 2 1 2 2 1 1 0 1 0]\n",
      "Prueba_________:  [0 2 1 1 0 1 0 0 2 1 2 2 2 1 0 0 0 1 1 2 0 2 1 2 2 1 1 0 2 0]\n",
      "Recall:  0.8333333333333334\n",
      "Precision:  0.8888888888888888\n",
      "Accuracy:  0.8333333333333334\n",
      "F1:  0.8222222222222223\n",
      "Tiempo de entrenamiento:  8.198851823806763\n"
     ]
    }
   ],
   "source": [
    "# Crear y entrenar el perceptrón multicapa\n",
    "perceptron = PerceptronMulticapa(capas=[4,4,4,3], alpha=0.225)\n",
    "perceptron.entrenar(X_entrenamiento, np.eye(3)[y_entrenamiento], epochs=1000)\n",
    "\n",
    "# Hacer predicciones sobre el conjunto de prueba\n",
    "predicciones = []\n",
    "for i in range(len(X_prueba)):\n",
    "    prediccion = perceptron.predecir(X_prueba[i])\n",
    "    prediccion_clase = np.argmax(prediccion)\n",
    "    predicciones.append(prediccion_clase)\n",
    "\n",
    "predicciones = np.array(predicciones)\n",
    "print (\"Predicciones___: \", predicciones)\n",
    "print (\"Prueba_________: \", y_prueba)\n",
    "perceptron.imprimir_metricas(y_prueba, predicciones)"
   ]
  },
  {
   "attachments": {},
   "cell_type": "markdown",
   "metadata": {},
   "source": [
    "**3.1** Ejecute el código con un α = 0,15 y con epochs = 3000"
   ]
  },
  {
   "cell_type": "code",
   "execution_count": 14,
   "metadata": {},
   "outputs": [
    {
     "name": "stdout",
     "output_type": "stream",
     "text": [
      "Predicciones___:  [0 2 1 1 0 1 0 0 2 1 2 2 2 1 0 0 0 1 1 2 0 2 1 2 2 1 1 0 2 0]\n",
      "Prueba_________:  [0 2 1 1 0 1 0 0 2 1 2 2 2 1 0 0 0 1 1 2 0 2 1 2 2 1 1 0 2 0]\n",
      "Recall:  1.0\n",
      "Precision:  1.0\n",
      "Accuracy:  1.0\n",
      "F1:  1.0\n",
      "Tiempo de entrenamiento:  24.678574323654175\n"
     ]
    }
   ],
   "source": [
    "# Crear y entrenar el perceptrón multicapa\n",
    "perceptron = PerceptronMulticapa(capas=[4,4,4,3], alpha=0.15)\n",
    "perceptron.entrenar(X_entrenamiento, np.eye(3)[y_entrenamiento], epochs=3000)\n",
    "\n",
    "# Hacer predicciones sobre el conjunto de prueba\n",
    "predicciones = []\n",
    "for i in range(len(X_prueba)):\n",
    "    prediccion = perceptron.predecir(X_prueba[i])\n",
    "    prediccion_clase = np.argmax(prediccion)\n",
    "    predicciones.append(prediccion_clase)\n",
    "\n",
    "predicciones = np.array(predicciones)\n",
    "print (\"Predicciones___: \", predicciones)\n",
    "print (\"Prueba_________: \", y_prueba)\n",
    "perceptron.imprimir_metricas(y_prueba, predicciones)"
   ]
  },
  {
   "attachments": {},
   "cell_type": "markdown",
   "metadata": {},
   "source": [
    "**3.2** Implemente la función de activación tanh y ReLU. Para cada una de ellas ejecute el modelo\n",
    "y obtenga las métricas.\n",
    "\n",
    "Nota: la implementación de estas dos funciones de activación se pueden observar en el bloque de código donde está definida la clase. Se necesita definir el atributo f_activación como \"s\" para la función sigmoide, \"t\" para la función tangente hiperbólica y como \"r\" para la función ReLU. Esto se puede observar de mejor manera en las próximas ejecuciones."
   ]
  },
  {
   "attachments": {},
   "cell_type": "markdown",
   "metadata": {},
   "source": [
    "**3.2.1** Ejecución y métricas de *tanh*"
   ]
  },
  {
   "cell_type": "code",
   "execution_count": 16,
   "metadata": {},
   "outputs": [
    {
     "name": "stdout",
     "output_type": "stream",
     "text": [
      "t\n",
      "Predicciones___:  [0 0 0 0 0 0 0 0 0 0 0 0 0 0 0 0 0 0 0 0 0 0 0 0 0 0 0 0 0 0]\n",
      "Prueba_________:  [0 2 1 1 0 1 0 0 2 1 2 2 2 1 0 0 0 1 1 2 0 2 1 2 2 1 1 0 2 0]\n",
      "Recall:  0.3333333333333333\n",
      "Precision:  0.7777777777777777\n",
      "Accuracy:  0.3333333333333333\n",
      "F1:  0.16666666666666666\n",
      "Tiempo de entrenamiento:  24.631563425064087\n"
     ]
    }
   ],
   "source": [
    "# Crear y entrenar el perceptrón multicapa\n",
    "perceptron = PerceptronMulticapa(capas=[4,4,4,3], alpha=0.15, f_activacion=\"t\")\n",
    "perceptron.entrenar(X_entrenamiento, np.eye(3)[y_entrenamiento], epochs=3000)\n",
    "print(perceptron.f_activacion)\n",
    "\n",
    "# Hacer predicciones sobre el conjunto de prueba\n",
    "predicciones = []\n",
    "for i in range(len(X_prueba)):\n",
    "    prediccion = perceptron.predecir(X_prueba[i])\n",
    "    prediccion_clase = np.argmax(prediccion)\n",
    "    predicciones.append(prediccion_clase)\n",
    "\n",
    "predicciones = np.array(predicciones)\n",
    "print (\"Predicciones___: \", predicciones)\n",
    "print (\"Prueba_________: \", y_prueba)\n",
    "perceptron.imprimir_metricas(y_prueba, predicciones)"
   ]
  },
  {
   "attachments": {},
   "cell_type": "markdown",
   "metadata": {},
   "source": [
    "**3.2.2** Ejecución y métricas de *ReLU*"
   ]
  },
  {
   "cell_type": "code",
   "execution_count": 8,
   "metadata": {},
   "outputs": [
    {
     "name": "stdout",
     "output_type": "stream",
     "text": [
      "Predicciones___:  [0 0 0 0 0 0 0 0 0 0 0 0 0 0 0 0 0 0 0 0 0 0 0 0 0 0 0 0 0 0]\n",
      "Prueba_________:  [0 2 1 1 0 1 0 0 2 1 2 2 2 1 0 0 0 1 1 2 0 2 1 2 2 1 1 0 2 0]\n",
      "Recall:  0.3333333333333333\n",
      "Precision:  0.7777777777777777\n",
      "Accuracy:  0.3333333333333333\n",
      "F1:  0.16666666666666666\n",
      "Tiempo de entrenamiento:  25.491756916046143\n"
     ]
    }
   ],
   "source": [
    "# Crear y entrenar el perceptrón multicapa\n",
    "perceptron_ReLU = PerceptronMulticapa(capas=[4,4,4,3], alpha=0.15, f_activacion=\"r\") # \"r\" para usar la función de activación ReLU\n",
    "perceptron_ReLU.entrenar(X_entrenamiento, np.eye(3)[y_entrenamiento], epochs=3000)\n",
    "\n",
    "# Hacer predicciones sobre el conjunto de prueba\n",
    "predicciones_ReLU = []\n",
    "for i in range(len(X_prueba)):\n",
    "    prediccion_ReLU = perceptron_ReLU.predecir(X_prueba[i])\n",
    "    prediccion_clase_ReLU = np.argmax(prediccion_ReLU)\n",
    "    predicciones_ReLU.append(prediccion_clase_ReLU)\n",
    "\n",
    "predicciones_ReLU = np.array(predicciones_ReLU)\n",
    "print (\"Predicciones___: \", predicciones)\n",
    "print (\"Prueba_________: \", y_prueba)\n",
    "perceptron_ReLU.imprimir_metricas(y_prueba, predicciones_ReLU)"
   ]
  },
  {
   "attachments": {},
   "cell_type": "markdown",
   "metadata": {},
   "source": [
    "**3.3**  Ajuste los parámetros de epochs y α para mejorar los valores de las métricas."
   ]
  },
  {
   "attachments": {},
   "cell_type": "markdown",
   "metadata": {},
   "source": [
    "**3.3.1** Ajuste para *sigmoide*"
   ]
  },
  {
   "cell_type": "code",
   "execution_count": 43,
   "metadata": {},
   "outputs": [
    {
     "name": "stdout",
     "output_type": "stream",
     "text": [
      "Recall:  1.0\n",
      "Precision:  1.0\n",
      "Accuracy:  1.0\n",
      "F1:  1.0\n",
      "Tiempo de entrenamiento:  16.441713094711304\n"
     ]
    }
   ],
   "source": [
    "# Crear y entrenar el perceptrón multicapa\n",
    "perceptron = PerceptronMulticapa(capas=[4,4,4,3], alpha=0.01) # Cambio de alpha: 0.15 a \n",
    "perceptron.entrenar(X_entrenamiento, np.eye(3)[y_entrenamiento], epochs=2000)\n",
    "\n",
    "# Hacer predicciones sobre el conjunto de prueba\n",
    "predicciones = []\n",
    "for i in range(len(X_prueba)):\n",
    "    prediccion = perceptron.predecir(X_prueba[i])\n",
    "    prediccion_clase = np.argmax(prediccion)\n",
    "    predicciones.append(prediccion_clase)\n",
    "\n",
    "predicciones = np.array(predicciones)\n",
    "perceptron.imprimir_metricas(y_prueba, predicciones)"
   ]
  },
  {
   "attachments": {},
   "cell_type": "markdown",
   "metadata": {},
   "source": [
    "**3.3.1** Ajuste para *tanh*"
   ]
  },
  {
   "cell_type": "code",
   "execution_count": 38,
   "metadata": {},
   "outputs": [
    {
     "name": "stdout",
     "output_type": "stream",
     "text": [
      "[0 2 1 1 0 1 0 0 2 1 2 2 2 1 0 0 0 1 1 2 0 2 1 2 2 1 1 0 2 0]\n",
      "[0 2 1 1 0 1 0 0 2 1 2 2 2 1 0 0 0 1 2 2 0 2 1 2 2 2 1 0 2 0]\n",
      "Recall:  0.9333333333333332\n",
      "Precision:  0.9444444444444445\n",
      "Accuracy:  0.9333333333333333\n",
      "F1:  0.9326599326599326\n",
      "Tiempo de entrenamiento:  8.213855504989624\n"
     ]
    }
   ],
   "source": [
    "# Crear y entrenar el perceptrón multicapa\n",
    "perceptron_tanh = PerceptronMulticapa(capas=[4,4,4,3], alpha=0.001, f_activacion=\"t\") # \"t\" para usar la función de activación tanh\n",
    "perceptron_tanh.entrenar(X_entrenamiento, np.eye(3)[y_entrenamiento], epochs=1000)\n",
    "\n",
    "# Hacer predicciones sobre el conjunto de prueba\n",
    "predicciones_tanh = []\n",
    "for i in range(len(X_prueba)):\n",
    "    prediccion_tanh = perceptron_tanh.predecir(X_prueba[i])\n",
    "    prediccion_clase_tanh = np.argmax(prediccion_tanh)\n",
    "    predicciones_tanh.append(prediccion_clase_tanh)\n",
    "\n",
    "predicciones_tanh = np.array(predicciones_tanh)\n",
    "print (y_prueba)\n",
    "print (predicciones_tanh)\n",
    "perceptron_tanh.imprimir_metricas(y_prueba, predicciones_tanh)"
   ]
  },
  {
   "attachments": {},
   "cell_type": "markdown",
   "metadata": {},
   "source": [
    "**3.3.1** Ajuste para *ReLU*"
   ]
  },
  {
   "cell_type": "code",
   "execution_count": 41,
   "metadata": {},
   "outputs": [
    {
     "name": "stdout",
     "output_type": "stream",
     "text": [
      "Recall:  0.8666666666666667\n",
      "Precision:  0.9047619047619048\n",
      "Accuracy:  0.8666666666666667\n",
      "F1:  0.861111111111111\n",
      "Tiempo de entrenamiento:  8.576937198638916\n"
     ]
    }
   ],
   "source": [
    "# Crear y entrenar el perceptrón multicapa\n",
    "perceptron_ReLU = PerceptronMulticapa(capas=[4,4,4,3], alpha=0.0001, f_activacion=\"r\") # \"r\" para usar la función de activación ReLU\n",
    "perceptron_ReLU.entrenar(X_entrenamiento, np.eye(3)[y_entrenamiento], epochs=1000)\n",
    "\n",
    "# Hacer predicciones sobre el conjunto de prueba\n",
    "predicciones_ReLU = []\n",
    "for i in range(len(X_prueba)):\n",
    "    prediccion_ReLU = perceptron_ReLU.predecir(X_prueba[i])\n",
    "    prediccion_clase_ReLU = np.argmax(prediccion_ReLU)\n",
    "    predicciones_ReLU.append(prediccion_clase_ReLU)\n",
    "\n",
    "predicciones_ReLU = np.array(predicciones_ReLU)\n",
    "perceptron_ReLU.imprimir_metricas(y_prueba, predicciones_ReLU)"
   ]
  },
  {
   "attachments": {},
   "cell_type": "markdown",
   "metadata": {},
   "source": [
    "**3.4** Determine cuál función de activación arrojó mejores resultados\n",
    "\n",
    "En este caso intentando ajustar los hiperparámetros *alpha* y *epochs* para cada función de activación, se obtiene que el mejor resultado fue obtenido por la función *sigmoide*."
   ]
  },
  {
   "attachments": {},
   "cell_type": "markdown",
   "metadata": {},
   "source": [
    "**3.5** Una vez que se haya obtenido los resultados anteriores obtenga el mejor resultado utilizando\n",
    "la biblioteca sklearn. Se sugiere utilizar Gridsearch para encontrar los parámetros."
   ]
  },
  {
   "cell_type": "code",
   "execution_count": 56,
   "metadata": {},
   "outputs": [],
   "source": [
    "from sklearn.model_selection import GridSearchCV\n",
    "from sklearn.preprocessing import LabelEncoder\n",
    "\n",
    "# Ajustando clase para utilizar GridSearch\n",
    "class PerceptronMulticapa:\n",
    "    def __init__(self, capas, alpha=0.1, epochs=0.1, f_activacion = \"s\"):\n",
    "        self.f_activacion = f_activacion\n",
    "        self.tiempo_entrenamiento = 0.0\n",
    "        self.capas = capas\n",
    "        self.alpha = alpha\n",
    "        self.epochs = epochs\n",
    "        self.bias = []\n",
    "        self.pesos = []\n",
    "        for i in range(0, len(capas) - 1):\n",
    "            # Inicializar los pesos y bias de cada capa\n",
    "            peso = np.random.randn(capas[i], capas[i+1])\n",
    "            self.pesos.append(peso)\n",
    "            bias = np.random.randn(capas[i+1])\n",
    "            self.bias.append(bias)\n",
    "\n",
    "    def get_params(self, deep=True):\n",
    "        # Devuelve un diccionario con los parámetros del objeto\n",
    "        return {\n",
    "            'capas': self.capas,\n",
    "            'alpha': self.alpha,\n",
    "            'epochs': self.epochs,\n",
    "            'f_activacion': self.f_activacion\n",
    "        }\n",
    "    \n",
    "    def set_params(self, **params):\n",
    "        # Actualiza los parámetros del objeto con los valores proporcionados en el diccionario params\n",
    "        if 'capas' in params:\n",
    "            self.capas = params['capas']\n",
    "        if 'alpha' in params:\n",
    "            self.alpha = params['alpha']\n",
    "        if 'epochs' in params:\n",
    "            self.epochs = params['epochs']\n",
    "        if 'f_activacion' in params:\n",
    "            self.f_activacion = params['f_activacion']\n",
    "        \n",
    "        return self\n",
    "\n",
    "    def activacion(self, x):\n",
    "        # Función de activación sigmoide\n",
    "        return 1.0 / (1 + np.exp(-x))\n",
    "\n",
    "    def activacion_derivada(self, x):\n",
    "        # Derivada de la función de activación sigmoide\n",
    "        return x * (1 - x)\n",
    "    \n",
    "    def activacion_tanh(self, x):\n",
    "        # Función de activación tanh (tangente hiperbólica)\n",
    "        return np.tanh(x)\n",
    "\n",
    "    def activacion_derivada_tanh(self, x):\n",
    "        # Derivada de la función de activación tanh (tangente hiperbólica)\n",
    "        return 1 - np.tanh(x)**2\n",
    "    \n",
    "    def activacion_relu(self, x):\n",
    "        # Función de activación ReLU (Rectified Linear Unit)\n",
    "        return np.maximum(0, x)\n",
    "\n",
    "    def activacion_derivada_relu(self, x):\n",
    "        # Derivada de la función de activación ReLU (Rectified Linear Unit)\n",
    "        return np.where(x <= 0, 0, 1)\n",
    "    \n",
    "    def feedforward(self, X):\n",
    "        # Calcular la salida de cada capa\n",
    "        capa_activacion = [X]\n",
    "        for i in range(0, len(self.capas) - 1):\n",
    "            x = np.dot(capa_activacion[i], self.pesos[i]) + self.bias[i]\n",
    "\n",
    "            if self.f_activacion == \"r\":\n",
    "                y = self.activacion_relu(x)\n",
    "            elif self.f_activacion == \"t\":\n",
    "                y = self.activacion_tanh(x)\n",
    "            else:\n",
    "                y = self.activacion(x)\n",
    "\n",
    "            capa_activacion.append(y)\n",
    "        return capa_activacion\n",
    "\n",
    "    def backpropagation(self, X, y, capa_activacion):\n",
    "        # Calcular el error de la capa de salida\n",
    "        error = capa_activacion[-1] - y\n",
    "\n",
    "        if self.f_activacion == \"r\":\n",
    "            delta = error * self.activacion_derivada_relu(capa_activacion[-1])\n",
    "        elif self.f_activacion == \"t\":\n",
    "            delta = error * self.activacion_derivada_tanh(capa_activacion[-1])\n",
    "        else:\n",
    "            delta = error * self.activacion_derivada(capa_activacion[-1])\n",
    "\n",
    "        # Propagar el error hacia atrás a través de la red neuronal\n",
    "        for i in reversed(range(0, len(self.capas) - 1)):\n",
    "            activacion_actual = capa_activacion[i]\n",
    "            activacion_anterior = capa_activacion[i-1] if i > 0 else X\n",
    "            d_peso = np.outer(activacion_anterior, delta)\n",
    "            d_bias = delta\n",
    "            self.pesos[i] -= self.alpha * d_peso\n",
    "            self.bias[i] -= self.alpha * d_bias\n",
    "\n",
    "            if self.f_activacion == \"r\":\n",
    "                delta = np.dot(delta, self.pesos[i].T) * self.activacion_derivada_relu(activacion_actual)\n",
    "            elif self.f_activacion == \"t\":\n",
    "                delta = np.dot(delta, self.pesos[i].T) * self.activacion_derivada_tanh(activacion_actual)\n",
    "            else:\n",
    "                delta = np.dot(delta, self.pesos[i].T) * self.activacion_derivada(activacion_actual)\n",
    "\n",
    "    def fit(self, X, y):\n",
    "        tiempo_inicio = time.time()\n",
    "        for epoch in range(0, self.epochs):\n",
    "            for i in range(0, len(X)):\n",
    "                # Feedforward\n",
    "                capa_activacion = self.feedforward(X[i])\n",
    "\n",
    "                # Backpropagation\n",
    "                self.backpropagation(X[i], y[i], capa_activacion)\n",
    "        self.tiempo_entrenamiento = time.time() - tiempo_inicio\n",
    "\n",
    "    def predict(self, X):\n",
    "\n",
    "        # Hacer predicciones sobre el conjunto de prueba\n",
    "        predicciones = []\n",
    "        for i in range(len(X)):\n",
    "            # Obtener la salida de la última capa\n",
    "            capa_activacion = self.feedforward(X[i])\n",
    "            \n",
    "            prediccion = capa_activacion[-1]\n",
    "            prediccion_clase = np.argmax(prediccion)\n",
    "            predicciones.append(prediccion_clase)\n",
    "\n",
    "        predicciones = np.array(predicciones)\n",
    "        return predicciones\n",
    "    \n",
    "    def score(self, X, y):\n",
    "        y_pred = self.predict(X)\n",
    "        accuracy = accuracy_score(y, y_pred)\n",
    "        return accuracy\n",
    "    \n",
    "    def metricas(self, y_prueba, y_pred):\n",
    "        recall = recall_score(y_prueba, y_pred, average='macro')\n",
    "        precision = precision_score(y_prueba, y_pred, zero_division=1, average='macro')\n",
    "        accuracy = accuracy_score(y_prueba, y_pred)\n",
    "        f1 = f1_score(y_prueba, y_pred, average='macro')\n",
    "        return recall, precision, accuracy, f1, self.tiempo_entrenamiento\n",
    "    \n",
    "    def imprimir_metricas(self, y_prueba, y_pred):\n",
    "        recall, precision, accuracy, f1, tiempo_entrenamiento = self.metricas(y_prueba, y_pred)\n",
    "        print (\"Recall: \", recall)\n",
    "        print (\"Precision: \", precision)\n",
    "        print (\"Accuracy: \", accuracy)\n",
    "        print (\"F1: \", f1)\n",
    "        print (\"Tiempo de entrenamiento: \", tiempo_entrenamiento)"
   ]
  },
  {
   "attachments": {},
   "cell_type": "markdown",
   "metadata": {},
   "source": [
    "**3.5.1** GridSearch para función de activación *sigmoide*"
   ]
  },
  {
   "cell_type": "code",
   "execution_count": 59,
   "metadata": {},
   "outputs": [
    {
     "name": "stdout",
     "output_type": "stream",
     "text": [
      "0.0001\n",
      "1000\n"
     ]
    }
   ],
   "source": [
    "# Convertir las etiquetas a formato categórico\n",
    "label_encoder = LabelEncoder()\n",
    "y_encoded = label_encoder.fit_transform(y_entrenamiento)\n",
    "\n",
    "# Define los parámetros que deseas explorar en la búsqueda\n",
    "param_grid = {\n",
    "    'alpha': [0.0001],\n",
    "    'epochs': [1000]}\n",
    "\n",
    "# Crear y entrenar el perceptrón multicapa\n",
    "perceptron = PerceptronMulticapa(capas=[4,4,4,3], f_activacion=\"s\")\n",
    "\n",
    "# Crea una instancia de GridSearchCV con tu clase PerceptronMulticapa y los parámetros definidos\n",
    "grid_search = GridSearchCV(perceptron, param_grid, cv=5)\n",
    "\n",
    "# Realiza la búsqueda de hiperparámetros utilizando los datos de entrenamiento X_train y y_train\n",
    "grid_search.fit(X_entrenamiento, y_encoded)\n",
    "\n",
    "# Obtiene los mejores hiperparámetros encontrados\n",
    "mejor_alpha = grid_search.best_params_['alpha']\n",
    "mejor_epochs = grid_search.best_params_['epochs']\n",
    "\n",
    "print (mejor_alpha)\n",
    "print (mejor_epochs)\n"
   ]
  },
  {
   "attachments": {},
   "cell_type": "markdown",
   "metadata": {},
   "source": [
    "# MLP con Sklearn"
   ]
  },
  {
   "cell_type": "code",
   "execution_count": 12,
   "metadata": {},
   "outputs": [],
   "source": [
    "from sklearn.neural_network import MLPClassifier\n",
    "from sklearn.datasets import load_iris\n",
    "from sklearn.model_selection import train_test_split\n",
    "from sklearn.metrics import accuracy_score\n",
    "from sklearn.metrics import confusion_matrix"
   ]
  },
  {
   "cell_type": "code",
   "execution_count": 13,
   "metadata": {},
   "outputs": [
    {
     "name": "stdout",
     "output_type": "stream",
     "text": [
      "Predicciones:  [0 2 1 1 0 1 0 0 2 1 2 2 2 1 0 0 0 1 1 2 0 2 1 2 2 1 1 0 2 0]\n",
      "Valor real  :  [0 2 1 1 0 1 0 0 2 1 2 2 2 1 0 0 0 1 1 2 0 2 1 2 2 1 1 0 2 0]\n",
      "Precisión: 1.00\n"
     ]
    },
    {
     "data": {
      "text/plain": [
       "array([[10,  0,  0],\n",
       "       [ 0, 10,  0],\n",
       "       [ 0,  0, 10]], dtype=int64)"
      ]
     },
     "execution_count": 13,
     "metadata": {},
     "output_type": "execute_result"
    }
   ],
   "source": [
    "mlp = MLPClassifier(hidden_layer_sizes=(10, 10), activation= 'tanh', max_iter=10000, random_state=42, solver=\"sgd\")\n",
    "mlp.fit(X_entrenamiento, y_entrenamiento)\n",
    "\n",
    "y_pred = mlp.predict(X_prueba)\n",
    "\n",
    "print(\"Predicciones: \", y_pred)\n",
    "print(\"Valor real  : \",y_prueba)\n",
    "\n",
    "accuracy = accuracy_score(y_prueba, y_pred)\n",
    "print(\"Precisión: {:.2f}\".format(accuracy))\n",
    "\n",
    "confusion_matrix(y_prueba,y_pred)"
   ]
  }
 ],
 "metadata": {
  "kernelspec": {
   "display_name": "Python 3 (ipykernel)",
   "language": "python",
   "name": "python3"
  },
  "language_info": {
   "codemirror_mode": {
    "name": "ipython",
    "version": 3
   },
   "file_extension": ".py",
   "mimetype": "text/x-python",
   "name": "python",
   "nbconvert_exporter": "python",
   "pygments_lexer": "ipython3",
   "version": "3.7.0"
  }
 },
 "nbformat": 4,
 "nbformat_minor": 4
}
