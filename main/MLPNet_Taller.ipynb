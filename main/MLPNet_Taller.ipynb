{
 "cells": [
  {
   "attachments": {},
   "cell_type": "markdown",
   "metadata": {},
   "source": [
    "# MLP"
   ]
  },
  {
   "cell_type": "code",
   "execution_count": 93,
   "metadata": {},
   "outputs": [],
   "source": [
    "import numpy as np\n",
    "import time\n",
    "from sklearn.metrics import recall_score, precision_score, accuracy_score, f1_score"
   ]
  },
  {
   "cell_type": "code",
   "execution_count": 94,
   "metadata": {},
   "outputs": [],
   "source": [
    "class PerceptronMulticapa:\n",
    "    def __init__(self, capas, alpha=0.1, f_activacion = \"s\"):\n",
    "        self.f_activacion = f_activacion\n",
    "        self.tiempo_entrenamiento = 0.0\n",
    "        self.capas = capas\n",
    "        self.alpha = alpha\n",
    "        self.bias = []\n",
    "        self.pesos = []\n",
    "        for i in range(0, len(capas) - 1):\n",
    "            # Inicializar los pesos y bias de cada capa\n",
    "            peso = np.random.randn(capas[i], capas[i+1])\n",
    "            self.pesos.append(peso)\n",
    "            bias = np.random.randn(capas[i+1])\n",
    "            self.bias.append(bias)\n",
    "\n",
    "    def activacion(self, x):\n",
    "        # Función de activación sigmoide\n",
    "        return 1.0 / (1 + np.exp(-x))\n",
    "\n",
    "    def activacion_derivada(self, x):\n",
    "        # Derivada de la función de activación sigmoide\n",
    "        return x * (1 - x)\n",
    "    \n",
    "    def activacion_tanh(self, x):\n",
    "        # Función de activación tanh (tangente hiperbólica)\n",
    "        return np.tanh(x)\n",
    "\n",
    "    def activacion_derivada_tanh(self, x):\n",
    "        # Derivada de la función de activación tanh (tangente hiperbólica)\n",
    "        return 1 - np.tanh(x)**2\n",
    "    \n",
    "    def activacion_relu(self, x):\n",
    "        # Función de activación ReLU (Rectified Linear Unit)\n",
    "        return np.maximum(0, x)\n",
    "\n",
    "    def activacion_derivada_relu(self, x):\n",
    "        # Derivada de la función de activación ReLU (Rectified Linear Unit)\n",
    "        return np.where(x <= 0, 0, 1)\n",
    "    \n",
    "    def feedforward(self, X):\n",
    "        # Calcular la salida de cada capa\n",
    "        capa_activacion = [X]\n",
    "        for i in range(0, len(self.capas) - 1):\n",
    "            x = np.dot(capa_activacion[i], self.pesos[i]) + self.bias[i]\n",
    "\n",
    "            if self.f_activacion == \"r\":\n",
    "                y = self.activacion_relu(x)\n",
    "            elif self.f_activacion == \"t\":\n",
    "                y = self.activacion_tanh(x)\n",
    "            else:\n",
    "                y = self.activacion(x)\n",
    "\n",
    "            capa_activacion.append(y)\n",
    "        return capa_activacion\n",
    "\n",
    "    def backpropagation(self, X, y, capa_activacion):\n",
    "        # Calcular el error de la capa de salida\n",
    "        error = capa_activacion[-1] - y\n",
    "\n",
    "        if self.f_activacion == \"r\":\n",
    "            delta = error * self.activacion_derivada_relu(capa_activacion[-1])\n",
    "        elif self.f_activacion == \"t\":\n",
    "            delta = error * self.activacion_derivada_tanh(capa_activacion[-1])\n",
    "        else:\n",
    "            delta = error * self.activacion_derivada(capa_activacion[-1])\n",
    "\n",
    "        \n",
    "        \n",
    "        # Propagar el error hacia atrás a través de la red neuronal\n",
    "        for i in reversed(range(0, len(self.capas) - 1)):\n",
    "            activacion_actual = capa_activacion[i]\n",
    "            activacion_anterior = capa_activacion[i-1] if i > 0 else X\n",
    "            d_peso = np.outer(activacion_anterior, delta)\n",
    "            d_bias = delta\n",
    "            self.pesos[i] -= self.alpha * d_peso\n",
    "            self.bias[i] -= self.alpha * d_bias\n",
    "\n",
    "            if self.f_activacion == \"r\":\n",
    "                delta = np.dot(delta, self.pesos[i].T) * self.activacion_derivada_relu(activacion_actual)\n",
    "            elif self.f_activacion == \"t\":\n",
    "                delta = np.dot(delta, self.pesos[i].T) * self.activacion_derivada_tanh(activacion_actual)\n",
    "            else:\n",
    "                delta = np.dot(delta, self.pesos[i].T) * self.activacion_derivada(activacion_actual)\n",
    "\n",
    "    def entrenar(self, X, y, epochs):\n",
    "        tiempo_inicio = time.time()\n",
    "        for epoch in range(0, epochs):\n",
    "            for i in range(0, len(X)):\n",
    "                # Feedforward\n",
    "                capa_activacion = self.feedforward(X[i])\n",
    "\n",
    "                # Backpropagation\n",
    "                self.backpropagation(X[i], y[i], capa_activacion)\n",
    "        self.tiempo_entrenamiento = time.time() - tiempo_inicio\n",
    "\n",
    "    def predecir(self, X):\n",
    "        # Obtener la salida de la última capa\n",
    "        capa_activacion = self.feedforward(X)\n",
    "        return capa_activacion[-1]\n",
    "    \n",
    "    def metricas(self, y_prueba, y_pred):\n",
    "        recall = recall_score(y_prueba, y_pred, average='macro')\n",
    "        precision = precision_score(y_prueba, y_pred, zero_division=1, average='macro')\n",
    "        accuracy = accuracy_score(y_prueba, y_pred)\n",
    "        f1 = f1_score(y_prueba, y_pred, average='macro')\n",
    "        return recall, precision, accuracy, f1, self.tiempo_entrenamiento\n",
    "    \n",
    "    def imprimir_metricas(self, y_prueba, y_pred):\n",
    "        recall, precision, accuracy, f1, tiempo_entrenamiento = self.metricas(y_prueba, y_pred)\n",
    "        print (\"Recall_______________________: \", recall)\n",
    "        print (\"Precision____________________: \", precision)\n",
    "        print (\"Accuracy_____________________: \", accuracy)\n",
    "        print (\"F1___________________________: \", f1)\n",
    "        print (\"Tiempo de entrenamiento______: \", tiempo_entrenamiento)\n",
    "\n",
    "\n",
    "\n",
    "    "
   ]
  },
  {
   "cell_type": "code",
   "execution_count": 95,
   "metadata": {},
   "outputs": [],
   "source": [
    "import numpy as np\n",
    "from sklearn.datasets import load_iris\n",
    "from sklearn.model_selection import train_test_split\n",
    "from matplotlib import pyplot as plt\n",
    "import pandas as pd\n",
    "# Cargar el conjunto de datos Iris\n",
    "\n",
    "iris = load_iris()\n",
    "X = iris.data\n",
    "y = iris.target\n",
    "\n",
    "# Dividir el conjunto de datos en entrenamiento y prueba\n",
    "X_entrenamiento, X_prueba, y_entrenamiento, y_prueba = train_test_split(X, y, test_size=0.2, random_state=42, stratify=y)\n",
    "\n"
   ]
  },
  {
   "cell_type": "code",
   "execution_count": 96,
   "metadata": {},
   "outputs": [],
   "source": [
    "mu = np.mean(X, 0)\n",
    "sigma = np.std(X, 0)\n",
    "X = (X - mu ) / sigma"
   ]
  },
  {
   "cell_type": "code",
   "execution_count": 97,
   "metadata": {},
   "outputs": [
    {
     "name": "stdout",
     "output_type": "stream",
     "text": [
      "Predicciones___:  [0 1 1 1 0 1 0 0 1 1 1 1 1 1 0 0 0 1 1 1 0 1 1 1 1 1 1 0 1 0]\n",
      "Prueba_________:  [0 2 1 1 0 1 0 0 2 1 2 2 2 1 0 0 0 1 1 2 0 2 1 2 2 1 1 0 2 0]\n",
      "Recall_______________________:  0.6666666666666666\n",
      "Precision____________________:  0.8333333333333334\n",
      "Accuracy_____________________:  0.6666666666666666\n",
      "F1___________________________:  0.5555555555555555\n",
      "Tiempo de entrenamiento______:  7.916154623031616\n"
     ]
    }
   ],
   "source": [
    "# Crear y entrenar el perceptrón multicapa\n",
    "perceptron = PerceptronMulticapa(capas=[4,4,4,3], alpha=0.225)\n",
    "perceptron.entrenar(X_entrenamiento, np.eye(3)[y_entrenamiento], epochs=1000)\n",
    "\n",
    "# Hacer predicciones sobre el conjunto de prueba\n",
    "predicciones = []\n",
    "for i in range(len(X_prueba)):\n",
    "    prediccion = perceptron.predecir(X_prueba[i])\n",
    "    prediccion_clase = np.argmax(prediccion)\n",
    "    predicciones.append(prediccion_clase)\n",
    "\n",
    "predicciones = np.array(predicciones)\n",
    "print (\"Predicciones___: \", predicciones)\n",
    "print (\"Prueba_________: \", y_prueba)\n",
    "perceptron.imprimir_metricas(y_prueba, predicciones)"
   ]
  },
  {
   "attachments": {},
   "cell_type": "markdown",
   "metadata": {},
   "source": [
    "**3.1** Ejecute el código con un α = 0,15 y con epochs = 3000"
   ]
  },
  {
   "cell_type": "code",
   "execution_count": 98,
   "metadata": {},
   "outputs": [
    {
     "name": "stdout",
     "output_type": "stream",
     "text": [
      "Predicciones___:  [0 2 1 1 0 1 0 0 2 1 2 2 2 1 0 0 0 1 1 2 0 2 1 2 2 1 1 0 2 0]\n",
      "Prueba_________:  [0 2 1 1 0 1 0 0 2 1 2 2 2 1 0 0 0 1 1 2 0 2 1 2 2 1 1 0 2 0]\n",
      "Recall_______________________:  1.0\n",
      "Precision____________________:  1.0\n",
      "Accuracy_____________________:  1.0\n",
      "F1___________________________:  1.0\n",
      "Tiempo de entrenamiento______:  23.076158046722412\n"
     ]
    }
   ],
   "source": [
    "# Crear y entrenar el perceptrón multicapa\n",
    "perceptron = PerceptronMulticapa(capas=[4,4,4,3], alpha=0.15)\n",
    "perceptron.entrenar(X_entrenamiento, np.eye(3)[y_entrenamiento], epochs=3000)\n",
    "\n",
    "# Hacer predicciones sobre el conjunto de prueba\n",
    "predicciones = []\n",
    "for i in range(len(X_prueba)):\n",
    "    prediccion = perceptron.predecir(X_prueba[i])\n",
    "    prediccion_clase = np.argmax(prediccion)\n",
    "    predicciones.append(prediccion_clase)\n",
    "\n",
    "predicciones = np.array(predicciones)\n",
    "print (\"Predicciones___: \", predicciones)\n",
    "print (\"Prueba_________: \", y_prueba)\n",
    "perceptron.imprimir_metricas(y_prueba, predicciones)"
   ]
  },
  {
   "attachments": {},
   "cell_type": "markdown",
   "metadata": {},
   "source": [
    "**3.2** Implemente la función de activación tanh y ReLU. Para cada una de ellas ejecute el modelo\n",
    "y obtenga las métricas.\n",
    "\n",
    "Nota: la implementación de estas dos funciones de activación se pueden observar en el bloque de código donde está definida la clase. Se necesita definir el atributo f_activación como \"s\" para la función sigmoide, \"t\" para la función tangente hiperbólica y como \"r\" para la función ReLU. Esto se puede observar de mejor manera en las próximas ejecuciones."
   ]
  },
  {
   "attachments": {},
   "cell_type": "markdown",
   "metadata": {},
   "source": [
    "**3.2.1** Ejecución y métricas de *tanh*"
   ]
  },
  {
   "cell_type": "code",
   "execution_count": 113,
   "metadata": {},
   "outputs": [
    {
     "ename": "TypeError",
     "evalue": "__init__() got an unexpected keyword argument 'f_activacion'",
     "output_type": "error",
     "traceback": [
      "\u001b[0;31m---------------------------------------------------------------------------\u001b[0m",
      "\u001b[0;31mTypeError\u001b[0m                                 Traceback (most recent call last)",
      "Cell \u001b[0;32mIn[113], line 2\u001b[0m\n\u001b[1;32m      1\u001b[0m \u001b[38;5;66;03m# Crear y entrenar el perceptrón multicapa\u001b[39;00m\n\u001b[0;32m----> 2\u001b[0m perceptron \u001b[38;5;241m=\u001b[39m \u001b[43mPerceptronMulticapa\u001b[49m\u001b[43m(\u001b[49m\u001b[43mcapas\u001b[49m\u001b[38;5;241;43m=\u001b[39;49m\u001b[43m[\u001b[49m\u001b[38;5;241;43m4\u001b[39;49m\u001b[43m,\u001b[49m\u001b[38;5;241;43m4\u001b[39;49m\u001b[43m,\u001b[49m\u001b[38;5;241;43m4\u001b[39;49m\u001b[43m,\u001b[49m\u001b[38;5;241;43m3\u001b[39;49m\u001b[43m]\u001b[49m\u001b[43m,\u001b[49m\u001b[43m \u001b[49m\u001b[43malpha\u001b[49m\u001b[38;5;241;43m=\u001b[39;49m\u001b[38;5;241;43m0.15\u001b[39;49m\u001b[43m,\u001b[49m\u001b[43m \u001b[49m\u001b[43mf_activacion\u001b[49m\u001b[38;5;241;43m=\u001b[39;49m\u001b[38;5;124;43m\"\u001b[39;49m\u001b[38;5;124;43mt\u001b[39;49m\u001b[38;5;124;43m\"\u001b[39;49m\u001b[43m)\u001b[49m\n\u001b[1;32m      3\u001b[0m perceptron\u001b[38;5;241m.\u001b[39mentrenar(X_entrenamiento, np\u001b[38;5;241m.\u001b[39meye(\u001b[38;5;241m3\u001b[39m)[y_entrenamiento], epochs\u001b[38;5;241m=\u001b[39m\u001b[38;5;241m3000\u001b[39m)\n\u001b[1;32m      4\u001b[0m \u001b[38;5;28mprint\u001b[39m(perceptron\u001b[38;5;241m.\u001b[39mf_activacion)\n",
      "\u001b[0;31mTypeError\u001b[0m: __init__() got an unexpected keyword argument 'f_activacion'"
     ]
    }
   ],
   "source": [
    "# Crear y entrenar el perceptrón multicapa\n",
    "perceptron = PerceptronMulticapa(capas=[4,4,4,3], alpha=0.15, f_activacion=\"t\")\n",
    "perceptron.entrenar(X_entrenamiento, np.eye(3)[y_entrenamiento], epochs=3000)\n",
    "print(perceptron.f_activacion)\n",
    "\n",
    "# Hacer predicciones sobre el conjunto de prueba\n",
    "predicciones = []\n",
    "for i in range(len(X_prueba)):\n",
    "    prediccion = perceptron.predecir(X_prueba[i])\n",
    "    prediccion_clase = np.argmax(prediccion)\n",
    "    predicciones.append(prediccion_clase)\n",
    "\n",
    "predicciones = np.array(predicciones)\n",
    "print (\"Predicciones___: \", predicciones)\n",
    "print (\"Prueba_________: \", y_prueba)\n",
    "perceptron.imprimir_metricas(y_prueba, predicciones)"
   ]
  },
  {
   "attachments": {},
   "cell_type": "markdown",
   "metadata": {},
   "source": [
    "**3.2.2** Ejecución y métricas de *ReLU*"
   ]
  },
  {
   "cell_type": "code",
   "execution_count": 100,
   "metadata": {},
   "outputs": [
    {
     "name": "stdout",
     "output_type": "stream",
     "text": [
      "Predicciones___:  [0 0 0 0 0 0 0 0 0 0 0 0 0 0 0 0 0 0 0 0 0 0 0 0 0 0 0 0 0 0]\n",
      "Prueba_________:  [0 2 1 1 0 1 0 0 2 1 2 2 2 1 0 0 0 1 1 2 0 2 1 2 2 1 1 0 2 0]\n",
      "Recall_______________________:  0.3333333333333333\n",
      "Precision____________________:  0.7777777777777777\n",
      "Accuracy_____________________:  0.3333333333333333\n",
      "F1___________________________:  0.16666666666666666\n",
      "Tiempo de entrenamiento______:  25.53288173675537\n"
     ]
    }
   ],
   "source": [
    "# Crear y entrenar el perceptrón multicapa\n",
    "perceptron_ReLU = PerceptronMulticapa(capas=[4,4,4,3], alpha=0.15, f_activacion=\"r\") # \"r\" para usar la función de activación ReLU\n",
    "perceptron_ReLU.entrenar(X_entrenamiento, np.eye(3)[y_entrenamiento], epochs=3000)\n",
    "\n",
    "# Hacer predicciones sobre el conjunto de prueba\n",
    "predicciones_ReLU = []\n",
    "for i in range(len(X_prueba)):\n",
    "    prediccion_ReLU = perceptron_ReLU.predecir(X_prueba[i])\n",
    "    prediccion_clase_ReLU = np.argmax(prediccion_ReLU)\n",
    "    predicciones_ReLU.append(prediccion_clase_ReLU)\n",
    "\n",
    "predicciones_ReLU = np.array(predicciones_ReLU)\n",
    "print (\"Predicciones___: \", predicciones)\n",
    "print (\"Prueba_________: \", y_prueba)\n",
    "perceptron_ReLU.imprimir_metricas(y_prueba, predicciones_ReLU)"
   ]
  },
  {
   "attachments": {},
   "cell_type": "markdown",
   "metadata": {},
   "source": [
    "**3.3**  Ajuste los parámetros de epochs y α para mejorar los valores de las métricas."
   ]
  },
  {
   "attachments": {},
   "cell_type": "markdown",
   "metadata": {},
   "source": [
    "**3.3.1** Ajuste para *sigmoide*"
   ]
  },
  {
   "cell_type": "code",
   "execution_count": 101,
   "metadata": {},
   "outputs": [
    {
     "name": "stdout",
     "output_type": "stream",
     "text": [
      "Recall_______________________:  1.0\n",
      "Precision____________________:  1.0\n",
      "Accuracy_____________________:  1.0\n",
      "F1___________________________:  1.0\n",
      "Tiempo de entrenamiento______:  16.678484439849854\n"
     ]
    }
   ],
   "source": [
    "# Crear y entrenar el perceptrón multicapa\n",
    "perceptron = PerceptronMulticapa(capas=[4,4,4,3], alpha=0.01) # Cambio de alpha: 0.15 a \n",
    "perceptron.entrenar(X_entrenamiento, np.eye(3)[y_entrenamiento], epochs=2000)\n",
    "\n",
    "# Hacer predicciones sobre el conjunto de prueba\n",
    "predicciones = []\n",
    "for i in range(len(X_prueba)):\n",
    "    prediccion = perceptron.predecir(X_prueba[i])\n",
    "    prediccion_clase = np.argmax(prediccion)\n",
    "    predicciones.append(prediccion_clase)\n",
    "\n",
    "predicciones = np.array(predicciones)\n",
    "perceptron.imprimir_metricas(y_prueba, predicciones)"
   ]
  },
  {
   "attachments": {},
   "cell_type": "markdown",
   "metadata": {},
   "source": [
    "**3.3.1** Ajuste para *tanh*"
   ]
  },
  {
   "cell_type": "code",
   "execution_count": 102,
   "metadata": {},
   "outputs": [
    {
     "name": "stdout",
     "output_type": "stream",
     "text": [
      "[0 2 1 1 0 1 0 0 2 1 2 2 2 1 0 0 0 1 1 2 0 2 1 2 2 1 1 0 2 0]\n",
      "[0 1 1 1 0 1 0 0 1 1 1 1 1 1 0 0 0 1 1 1 0 1 1 1 1 1 1 0 1 0]\n",
      "Recall_______________________:  0.6666666666666666\n",
      "Precision____________________:  0.8333333333333334\n",
      "Accuracy_____________________:  0.6666666666666666\n",
      "F1___________________________:  0.5555555555555555\n",
      "Tiempo de entrenamiento______:  7.201594352722168\n"
     ]
    }
   ],
   "source": [
    "# Crear y entrenar el perceptrón multicapa\n",
    "perceptron_tanh = PerceptronMulticapa(capas=[4,4,4,3], alpha=0.001, f_activacion=\"t\") # \"t\" para usar la función de activación tanh\n",
    "perceptron_tanh.entrenar(X_entrenamiento, np.eye(3)[y_entrenamiento], epochs=1000)\n",
    "\n",
    "# Hacer predicciones sobre el conjunto de prueba\n",
    "predicciones_tanh = []\n",
    "for i in range(len(X_prueba)):\n",
    "    prediccion_tanh = perceptron_tanh.predecir(X_prueba[i])\n",
    "    prediccion_clase_tanh = np.argmax(prediccion_tanh)\n",
    "    predicciones_tanh.append(prediccion_clase_tanh)\n",
    "\n",
    "predicciones_tanh = np.array(predicciones_tanh)\n",
    "print (y_prueba)\n",
    "print (predicciones_tanh)\n",
    "perceptron_tanh.imprimir_metricas(y_prueba, predicciones_tanh)"
   ]
  },
  {
   "attachments": {},
   "cell_type": "markdown",
   "metadata": {},
   "source": [
    "**3.3.1** Ajuste para *ReLU*"
   ]
  },
  {
   "cell_type": "code",
   "execution_count": 103,
   "metadata": {},
   "outputs": [
    {
     "name": "stdout",
     "output_type": "stream",
     "text": [
      "Recall_______________________:  0.6666666666666666\n",
      "Precision____________________:  0.8333333333333334\n",
      "Accuracy_____________________:  0.6666666666666666\n",
      "F1___________________________:  0.5555555555555555\n",
      "Tiempo de entrenamiento______:  8.561216592788696\n"
     ]
    }
   ],
   "source": [
    "# Crear y entrenar el perceptrón multicapa\n",
    "perceptron_ReLU = PerceptronMulticapa(capas=[4,4,4,3], alpha=0.0001, f_activacion=\"r\") # \"r\" para usar la función de activación ReLU\n",
    "perceptron_ReLU.entrenar(X_entrenamiento, np.eye(3)[y_entrenamiento], epochs=1000)\n",
    "\n",
    "# Hacer predicciones sobre el conjunto de prueba\n",
    "predicciones_ReLU = []\n",
    "for i in range(len(X_prueba)):\n",
    "    prediccion_ReLU = perceptron_ReLU.predecir(X_prueba[i])\n",
    "    prediccion_clase_ReLU = np.argmax(prediccion_ReLU)\n",
    "    predicciones_ReLU.append(prediccion_clase_ReLU)\n",
    "\n",
    "predicciones_ReLU = np.array(predicciones_ReLU)\n",
    "perceptron_ReLU.imprimir_metricas(y_prueba, predicciones_ReLU)"
   ]
  },
  {
   "attachments": {},
   "cell_type": "markdown",
   "metadata": {},
   "source": [
    "**3.4** Determine cuál función de activación arrojó mejores resultados\n",
    "\n",
    "En este caso intentando ajustar los hiperparámetros *alpha* y *epochs* para cada función de activación, se obtiene que el mejor resultado fue obtenido por la función *sigmoide*."
   ]
  },
  {
   "attachments": {},
   "cell_type": "markdown",
   "metadata": {},
   "source": [
    "**3.5** Una vez que se haya obtenido los resultados anteriores obtenga el mejor resultado utilizando\n",
    "la biblioteca sklearn. Se sugiere utilizar Gridsearch para encontrar los parámetros."
   ]
  },
  {
   "cell_type": "code",
   "execution_count": 130,
   "metadata": {},
   "outputs": [],
   "source": [
    "from sklearn.model_selection import GridSearchCV\n",
    "from sklearn.preprocessing import LabelEncoder\n",
    "\n",
    "# Ajustando clase para utilizar GridSearch\n",
    "class PerceptronMulticapa:\n",
    "    def __init__(self, capas, alpha=0.1, epochs=0.1, f_activacion = \"s\"):\n",
    "        self.f_activacion = f_activacion\n",
    "        self.tiempo_entrenamiento = 0.0\n",
    "        self.capas = capas\n",
    "        self.alpha = alpha\n",
    "        self.epochs = epochs\n",
    "        self.bias = []\n",
    "        self.pesos = []\n",
    "        for i in range(0, len(capas) - 1):\n",
    "            # Inicializar los pesos y bias de cada capa\n",
    "            peso = np.random.randn(capas[i], capas[i+1])\n",
    "            self.pesos.append(peso)\n",
    "            bias = np.random.randn(capas[i+1])\n",
    "            self.bias.append(bias)\n",
    "\n",
    "    def get_params(self, deep=True):\n",
    "        # Devuelve un diccionario con los parámetros del objeto\n",
    "        return {\n",
    "            'capas': self.capas,\n",
    "            'alpha': self.alpha,\n",
    "            'epochs': self.epochs,\n",
    "            'f_activacion': self.f_activacion\n",
    "        }\n",
    "    \n",
    "    def set_params(self, **params):\n",
    "        # Actualiza los parámetros del objeto con los valores proporcionados en el diccionario params\n",
    "        if 'capas' in params:\n",
    "            self.capas = params['capas']\n",
    "        if 'alpha' in params:\n",
    "            self.alpha = params['alpha']\n",
    "        if 'epochs' in params:\n",
    "            self.epochs = params['epochs']\n",
    "        if 'f_activacion' in params:\n",
    "            self.f_activacion = params['f_activacion']\n",
    "        \n",
    "        return self\n",
    "\n",
    "    def activacion(self, x):\n",
    "        # Función de activación sigmoide\n",
    "        return 1.0 / (1 + np.exp(-x))\n",
    "\n",
    "    def activacion_derivada(self, x):\n",
    "        # Derivada de la función de activación sigmoide\n",
    "        return x * (1 - x)\n",
    "    \n",
    "    def activacion_tanh(self, x):\n",
    "        # Función de activación tanh (tangente hiperbólica)\n",
    "        return np.tanh(x)\n",
    "\n",
    "    def activacion_derivada_tanh(self, x):\n",
    "        # Derivada de la función de activación tanh (tangente hiperbólica)\n",
    "        return 1 - np.tanh(x)**2\n",
    "    \n",
    "    def activacion_relu(self, x):\n",
    "        # Función de activación ReLU (Rectified Linear Unit)\n",
    "        return np.maximum(0, x)\n",
    "\n",
    "    def activacion_derivada_relu(self, x):\n",
    "        # Derivada de la función de activación ReLU (Rectified Linear Unit)\n",
    "        return np.where(x <= 0, 0, 1)\n",
    "    \n",
    "    def feedforward(self, X):\n",
    "        # Calcular la salida de cada capa\n",
    "        capa_activacion = [X]\n",
    "        for i in range(0, len(self.capas) - 1):\n",
    "            x = np.dot(capa_activacion[i], self.pesos[i]) + self.bias[i]\n",
    "\n",
    "            if self.f_activacion == \"r\":\n",
    "                y = self.activacion_relu(x)\n",
    "            elif self.f_activacion == \"t\":\n",
    "                y = self.activacion_tanh(x)\n",
    "            else:\n",
    "                y = self.activacion(x)\n",
    "\n",
    "            capa_activacion.append(y)\n",
    "        return capa_activacion\n",
    "\n",
    "    def backpropagation(self, X, y, capa_activacion):\n",
    "        # Calcular el error de la capa de salida\n",
    "        error = capa_activacion[-1] - y\n",
    "\n",
    "        if self.f_activacion == \"r\":\n",
    "            delta = error * self.activacion_derivada_relu(capa_activacion[-1])\n",
    "        elif self.f_activacion == \"t\":\n",
    "            delta = error * self.activacion_derivada_tanh(capa_activacion[-1])\n",
    "        else:\n",
    "            delta = error * self.activacion_derivada(capa_activacion[-1])\n",
    "\n",
    "        # Propagar el error hacia atrás a través de la red neuronal\n",
    "        for i in reversed(range(0, len(self.capas) - 1)):\n",
    "            activacion_actual = capa_activacion[i]\n",
    "            activacion_anterior = capa_activacion[i-1] if i > 0 else X\n",
    "            d_peso = np.outer(activacion_anterior, delta)\n",
    "            d_bias = delta\n",
    "            self.pesos[i] -= self.alpha * d_peso\n",
    "            self.bias[i] -= self.alpha * d_bias\n",
    "\n",
    "            if self.f_activacion == \"r\":\n",
    "                delta = np.dot(delta, self.pesos[i].T) * self.activacion_derivada_relu(activacion_actual)\n",
    "            elif self.f_activacion == \"t\":\n",
    "                delta = np.dot(delta, self.pesos[i].T) * self.activacion_derivada_tanh(activacion_actual)\n",
    "            else:\n",
    "                delta = np.dot(delta, self.pesos[i].T) * self.activacion_derivada(activacion_actual)\n",
    "\n",
    "    def fit(self, X, y):\n",
    "        tiempo_inicio = time.time()\n",
    "        for epoch in range(0, self.epochs):\n",
    "            for i in range(0, len(X)):\n",
    "                # Feedforward\n",
    "                capa_activacion = self.feedforward(X[i])\n",
    "\n",
    "                # Backpropagation\n",
    "                self.backpropagation(X[i], y[i], capa_activacion)\n",
    "        self.tiempo_entrenamiento = time.time() - tiempo_inicio\n",
    "\n",
    "    def predict(self, X):\n",
    "\n",
    "        # Hacer predicciones sobre el conjunto de prueba\n",
    "        predicciones = []\n",
    "        for i in range(len(X)):\n",
    "            # Obtener la salida de la última capa\n",
    "            capa_activacion = self.feedforward(X[i])\n",
    "            \n",
    "            prediccion = capa_activacion[-1]\n",
    "            prediccion_clase = np.argmax(prediccion)\n",
    "            predicciones.append(prediccion_clase)\n",
    "\n",
    "        predicciones = np.array(predicciones)\n",
    "        return predicciones\n",
    "    \n",
    "    def score(self, X, y):\n",
    "        y_pred = self.predict(X)\n",
    "        accuracy = accuracy_score(y, y_pred)\n",
    "        return accuracy\n",
    "    \n",
    "    def metricas(self, y_prueba, y_pred):\n",
    "        recall = recall_score(y_prueba, y_pred, average='macro')\n",
    "        precision = precision_score(y_prueba, y_pred, zero_division=1, average='macro')\n",
    "        accuracy = accuracy_score(y_prueba, y_pred)\n",
    "        f1 = f1_score(y_prueba, y_pred, average='macro')\n",
    "        return recall, precision, accuracy, f1, self.tiempo_entrenamiento\n",
    "    \n",
    "    def imprimir_metricas(self, y_prueba, y_pred):\n",
    "        recall, precision, accuracy, f1, tiempo_entrenamiento = self.metricas(y_prueba, y_pred)\n",
    "        print (\"Recall_______________________: \", recall)\n",
    "        print (\"Precision____________________: \", precision)\n",
    "        print (\"Accuracy_____________________: \", accuracy)\n",
    "        print (\"F1___________________________: \", f1)\n",
    "        print (\"Tiempo de entrenamiento______: \", tiempo_entrenamiento)"
   ]
  },
  {
   "attachments": {},
   "cell_type": "markdown",
   "metadata": {},
   "source": [
    "**3.5.1** GridSearch para función de activación *sigmoide*"
   ]
  },
  {
   "cell_type": "code",
   "execution_count": 105,
   "metadata": {},
   "outputs": [
    {
     "name": "stdout",
     "output_type": "stream",
     "text": [
      "Mejor alfa_____: 0.1\n",
      "Mejor epochs___: 5000\n"
     ]
    }
   ],
   "source": [
    "# Convertir las etiquetas a formato categórico\n",
    "label_encoder = LabelEncoder()\n",
    "y_encoded = label_encoder.fit_transform(y_entrenamiento)\n",
    "\n",
    "# Define los parámetros que deseas explorar en la búsqueda\n",
    "param_grid = {\n",
    "    'alpha': [0.00001, 0.0001, 0.001, 0.01, 0.1],\n",
    "    'epochs': [1000, 2000, 3000, 4000, 5000]}\n",
    "\n",
    "# Crear y entrenar el perceptrón multicapa\n",
    "perceptron = PerceptronMulticapa(capas=[4,4,4,3], f_activacion=\"s\")\n",
    "\n",
    "# Crea una instancia de GridSearchCV con tu clase PerceptronMulticapa y los parámetros definidos\n",
    "grid_search = GridSearchCV(perceptron, param_grid, cv=5)\n",
    "\n",
    "# Realiza la búsqueda de hiperparámetros utilizando los datos de entrenamiento X_train y y_train\n",
    "grid_search.fit(X_entrenamiento, y_encoded)\n",
    "\n",
    "# Obtiene los mejores hiperparámetros encontrados\n",
    "mejor_alpha = grid_search.best_params_['alpha']\n",
    "mejor_epochs = grid_search.best_params_['epochs']\n",
    "\n",
    "print (\"Mejor alfa_____:\", mejor_alpha)\n",
    "print (\"Mejor epochs___:\", mejor_epochs)"
   ]
  },
  {
   "cell_type": "code",
   "execution_count": 132,
   "metadata": {},
   "outputs": [
    {
     "name": "stdout",
     "output_type": "stream",
     "text": [
      "Recall_______________________:  0.9666666666666667\n",
      "Precision____________________:  0.9696969696969697\n",
      "Accuracy_____________________:  0.9666666666666667\n",
      "F1___________________________:  0.9665831244778613\n",
      "Tiempo de entrenamiento______:  39.56442737579346\n"
     ]
    }
   ],
   "source": [
    "# Crear y entrenar el perceptrón multicapa\n",
    "perceptron = PerceptronMulticapa(capas=[4,4,4,3], alpha=0.1, epochs=5000) # Con alpha y epochs definidos por GridSearch \n",
    "perceptron.fit(X_entrenamiento, np.eye(3)[y_entrenamiento])\n",
    "\n",
    "# Hacer predicciones sobre el conjunto de prueba\n",
    "predicciones = perceptron.predict(X_prueba)\n",
    "\n",
    "#Imprimir métricas\n",
    "perceptron.imprimir_metricas(y_prueba, predicciones)"
   ]
  },
  {
   "cell_type": "markdown",
   "metadata": {},
   "source": [
    "**3.5.2** GridSearch para función de activación *tanh*"
   ]
  },
  {
   "cell_type": "code",
   "execution_count": 138,
   "metadata": {},
   "outputs": [
    {
     "name": "stdout",
     "output_type": "stream",
     "text": [
      "Mejor alfa_____: 0.0001\n",
      "Mejor epochs___: 1000\n"
     ]
    }
   ],
   "source": [
    "# Crear y entrenar el perceptrón multicapa con función de activación tanh\n",
    "perceptron_tanh = PerceptronMulticapa(capas=[4,4,4,3], f_activacion=\"t\")\n",
    "\n",
    "# Crea una instancia de GridSearchCV con tu clase PerceptronMulticapa y los parámetros definidos\n",
    "grid_search_tanh = GridSearchCV(perceptron_tanh, param_grid, cv=5)\n",
    "\n",
    "# Realiza la búsqueda de hiperparámetros utilizando los datos de entrenamiento X_train y y_train\n",
    "grid_search_tanh.fit(X_entrenamiento, y_encoded)\n",
    "\n",
    "# Obtiene los mejores hiperparámetros encontrados\n",
    "mejor_alpha_tanh = grid_search_tanh.best_params_['alpha']\n",
    "mejor_epochs_tanh = grid_search_tanh.best_params_['epochs']\n",
    "\n",
    "print (\"Mejor alfa_____:\", mejor_alpha_tanh)\n",
    "print (\"Mejor epochs___:\", mejor_epochs_tanh)"
   ]
  },
  {
   "cell_type": "code",
   "execution_count": 141,
   "metadata": {},
   "outputs": [
    {
     "name": "stdout",
     "output_type": "stream",
     "text": [
      "Recall_______________________:  0.9666666666666667\n",
      "Precision____________________:  0.9696969696969697\n",
      "Accuracy_____________________:  0.9666666666666667\n",
      "F1___________________________:  0.9665831244778613\n",
      "Tiempo de entrenamiento______:  7.00382661819458\n"
     ]
    }
   ],
   "source": [
    "# Crear y entrenar el perceptrón multicapa\n",
    "perceptron_tanh = PerceptronMulticapa(capas=[4,4,4,3], alpha=0.0001, epochs=1000, f_activacion=\"t\") # Con alpha y epochs definidos por GridSearch \n",
    "perceptron_tanh.fit(X_entrenamiento, np.eye(3)[y_entrenamiento])\n",
    "\n",
    "# Hacer predicciones sobre el conjunto de prueba\n",
    "predicciones = perceptron_tanh.predict(X_prueba)\n",
    "\n",
    "#Imprimir métricas\n",
    "perceptron_tanh.imprimir_metricas(y_prueba, predicciones)"
   ]
  },
  {
   "cell_type": "markdown",
   "metadata": {},
   "source": [
    "**3.5.3** GridSearch para función de activación *ReLU*"
   ]
  },
  {
   "cell_type": "code",
   "execution_count": 109,
   "metadata": {},
   "outputs": [
    {
     "name": "stdout",
     "output_type": "stream",
     "text": [
      "Mejor alfa_____: 1e-05\n",
      "Mejor epochs___: 4000\n"
     ]
    }
   ],
   "source": [
    "# Crear y entrenar el perceptrón multicapa con función de activación tanh\n",
    "perceptron_ReLU = PerceptronMulticapa(capas=[4,4,4,3], f_activacion=\"r\")\n",
    "\n",
    "# Crea una instancia de GridSearchCV con tu clase PerceptronMulticapa y los parámetros definidos\n",
    "grid_search_ReLU = GridSearchCV(perceptron_ReLU, param_grid, cv=5)\n",
    "\n",
    "# Realiza la búsqueda de hiperparámetros utilizando los datos de entrenamiento X_train y y_train\n",
    "grid_search_ReLU.fit(X_entrenamiento, y_encoded)\n",
    "\n",
    "# Obtiene los mejores hiperparámetros encontrados\n",
    "mejor_alpha_ReLU = grid_search_ReLU.best_params_['alpha']\n",
    "mejor_epochs_ReLU = grid_search_ReLU.best_params_['epochs']\n",
    "\n",
    "print (\"Mejor alfa_____:\", mejor_alpha_ReLU)\n",
    "print (\"Mejor epochs___:\", mejor_epochs_ReLU)"
   ]
  },
  {
   "cell_type": "code",
   "execution_count": 124,
   "metadata": {},
   "outputs": [
    {
     "name": "stdout",
     "output_type": "stream",
     "text": [
      "Recall_______________________:  0.7333333333333334\n",
      "Precision____________________:  0.7986111111111112\n",
      "Accuracy_____________________:  0.7333333333333333\n",
      "F1___________________________:  0.7353988603988605\n",
      "Tiempo de entrenamiento______:  32.679752826690674\n"
     ]
    }
   ],
   "source": [
    "# Crear y entrenar el perceptrón multicapa\n",
    "perceptron_ReLU = PerceptronMulticapa(capas=[4,4,4,3], alpha=0.00001, epochs=4000, f_activacion=\"r\") # Con alpha y epochs definidos por GridSearch \n",
    "perceptron_ReLU.fit(X_entrenamiento, np.eye(3)[y_entrenamiento])\n",
    "\n",
    "# Hacer predicciones sobre el conjunto de prueba\n",
    "predicciones = perceptron_ReLU.predict(X_prueba)\n",
    "\n",
    "#Imprimir métricas\n",
    "perceptron_ReLU.imprimir_metricas(y_prueba, predicciones)"
   ]
  },
  {
   "cell_type": "markdown",
   "metadata": {},
   "source": [
    "**4.1** Modifique el código proporcionado (la sección de MLP) para que la red pueda tener capas\n",
    "ocultas de diferentes tamaños."
   ]
  },
  {
   "cell_type": "code",
   "execution_count": 127,
   "metadata": {},
   "outputs": [],
   "source": [
    "from sklearn.model_selection import GridSearchCV\n",
    "from sklearn.preprocessing import LabelEncoder\n",
    "\n",
    "class PerceptronMulticapa:\n",
    "    def __init__(self, capas, alpha=0.1, epochs=1000):\n",
    "        self.capas = capas\n",
    "        self.alpha = alpha\n",
    "        self.epochs = epochs\n",
    "        self.tiempo_entrenamiento = 0.0\n",
    "        self.num_capas = len(capas)\n",
    "        self.bias = []\n",
    "        self.pesos = []\n",
    "        self.activaciones = []\n",
    "        self.deltas = []\n",
    "\n",
    "        for i in range(1, self.num_capas):\n",
    "            peso = np.random.randn(self.capas[i-1], self.capas[i])\n",
    "            self.pesos.append(peso)\n",
    "            bias = np.random.randn(self.capas[i])\n",
    "            self.bias.append(bias)\n",
    "\n",
    "    def activacion(self, x):\n",
    "        # Función de activación sigmoide\n",
    "        return 1.0 / (1 + np.exp(-x))\n",
    "\n",
    "    def activacion_derivada(self, x):\n",
    "        # Derivada de la función de activación sigmoide\n",
    "        return x * (1 - x)\n",
    "\n",
    "    def feedforward(self, X):\n",
    "        self.activaciones = [X]\n",
    "        for i in range(self.num_capas - 1):\n",
    "            # Calcular la salida de la capa actual\n",
    "            activacion = self.activacion(np.dot(self.activaciones[i], self.pesos[i]) + self.bias[i])\n",
    "            self.activaciones.append(activacion)\n",
    "        return self.activaciones[-1]\n",
    "\n",
    "    def backpropagation(self, X, y):\n",
    "        self.deltas = []\n",
    "        salida = self.activaciones[-1]\n",
    "        error = salida - y\n",
    "        delta = error * self.activacion_derivada(salida)\n",
    "        self.deltas.append(delta)\n",
    "\n",
    "        # Propagar el error hacia atrás a través de la red neuronal\n",
    "        for i in reversed(range(self.num_capas - 2)):\n",
    "            delta = np.dot(self.deltas[0], self.pesos[i + 1].T) * self.activacion_derivada(self.activaciones[i + 1])\n",
    "            self.deltas.insert(0, delta)\n",
    "\n",
    "        # Actualizar pesos y bias\n",
    "        for i in range(self.num_capas - 1):\n",
    "            d_peso = np.outer(self.activaciones[i], self.deltas[i])\n",
    "            self.pesos[i] -= self.alpha * d_peso\n",
    "            self.bias[i] -= self.alpha * self.deltas[i]\n",
    "\n",
    "    def fit(self, X, y):\n",
    "        tiempo_inicio = time.time()\n",
    "        for _ in range(self.epochs):\n",
    "            for i in range(len(X)):\n",
    "                x = X[i]\n",
    "                y_true = y[i]\n",
    "                self.feedforward(x)\n",
    "                self.backpropagation(x, y_true)\n",
    "        self.tiempo_entrenamiento = time.time() - tiempo_inicio\n",
    "\n",
    "    def predict(self, X):\n",
    "        self.activaciones = [X]\n",
    "        for i in range(self.num_capas - 1):\n",
    "            # Calcular la salida de la capa actual\n",
    "            activacion = self.activacion(np.dot(self.activaciones[i], self.pesos[i]) + self.bias[i])\n",
    "            self.activaciones.append(activacion)\n",
    "        predicciones = np.argmax(self.activaciones[-1], axis=1)\n",
    "        return predicciones\n",
    "    \n",
    "    def score(self, X, y):\n",
    "        y_pred = self.predict(X)\n",
    "        accuracy = np.mean(y_pred == y)\n",
    "        return accuracy\n",
    "    \n",
    "    def metricas(self, y_prueba, y_pred):\n",
    "        recall = recall_score(y_prueba, y_pred, average='macro')\n",
    "        precision = precision_score(y_prueba, y_pred, zero_division=1, average='macro')\n",
    "        accuracy = accuracy_score(y_prueba, y_pred)\n",
    "        f1 = f1_score(y_prueba, y_pred, average='macro')\n",
    "        return recall, precision, accuracy, f1, self.tiempo_entrenamiento\n",
    "    \n",
    "    def imprimir_metricas(self, y_prueba, y_pred):\n",
    "        recall, precision, accuracy, f1, tiempo_entrenamiento = self.metricas(y_prueba, y_pred)\n",
    "        print (\"Recall_______________________: \", recall)\n",
    "        print (\"Precision____________________: \", precision)\n",
    "        print (\"Accuracy_____________________: \", accuracy)\n",
    "        print (\"F1___________________________: \", f1)\n",
    "        print (\"Tiempo de entrenamiento______: \", tiempo_entrenamiento)\n"
   ]
  },
  {
   "cell_type": "markdown",
   "metadata": {},
   "source": [
    "**4.2** Cree una red neuronal como la que se muestra en la figura 1 y obtenga las métricas de:\n",
    "recall, precision, accuracy y F1."
   ]
  },
  {
   "cell_type": "code",
   "execution_count": 128,
   "metadata": {},
   "outputs": [
    {
     "name": "stdout",
     "output_type": "stream",
     "text": [
      "Recall_______________________:  1.0\n",
      "Precision____________________:  1.0\n",
      "Accuracy_____________________:  1.0\n",
      "F1___________________________:  1.0\n",
      "Tiempo de entrenamiento______:  35.80329370498657\n"
     ]
    }
   ],
   "source": [
    "# Crear y entrenar el perceptrón multicapa\n",
    "perceptron = PerceptronMulticapa(capas=[4,8,5,3], alpha=0.1, epochs=5000) # Con alpha y epochs definidos por GridSearch \n",
    "perceptron.fit(X_entrenamiento, np.eye(3)[y_entrenamiento])\n",
    "\n",
    "# Hacer predicciones sobre el conjunto de prueba\n",
    "predicciones = perceptron.predict(X_prueba)\n",
    "\n",
    "#Imprimir métricas\n",
    "perceptron.imprimir_metricas(y_prueba, predicciones)"
   ]
  }
 ],
 "metadata": {
  "kernelspec": {
   "display_name": "Python 3.8.10 64-bit",
   "language": "python",
   "name": "python3"
  },
  "language_info": {
   "codemirror_mode": {
    "name": "ipython",
    "version": 3
   },
   "file_extension": ".py",
   "mimetype": "text/x-python",
   "name": "python",
   "nbconvert_exporter": "python",
   "pygments_lexer": "ipython3",
   "version": "3.8.10"
  },
  "vscode": {
   "interpreter": {
    "hash": "e7370f93d1d0cde622a1f8e1c04877d8463912d04d973331ad4851f04de6915a"
   }
  }
 },
 "nbformat": 4,
 "nbformat_minor": 4
}
